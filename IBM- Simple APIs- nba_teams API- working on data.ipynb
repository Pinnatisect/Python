# -*- coding: utf-8 -*-
"""
Created on Fri Apr 10 09:14:33 2020

@author: selin
"""
import pandas as pd
import matplotlib.pyplot as plt
from nba_api.stats.static import teams
from nba_api.stats.endpoints import leaguegamefinder


nba_teams = teams.get_teams() 
def one_dict(list_dict):
    keys=list_dict[0].keys()
    out_dict={key:[] for key in keys}
    for dict_ in list_dict:
        for key, value in dict_.items():
            out_dict[key].append(value)
    return out_dict
dict_nba_team = one_dict(nba_teams)

df_teams=pd.DataFrame(dict_nba_team)
df_teams.head()

##see the data for Golden State Warriors
df_warriors=df_teams[df_teams["nickname"]=="Warriors"]
df_warriors
id_warriors = df_warriors[["id"]].values[0][0]

##API request for current data about league
gamefinder = leaguegamefinder.LeagueGameFinder(team_id_nullable = id_warriors)
games = gamefinder.get_data_frames()[0]
games.head()

##see the data for games played with GSW and TOR
games_home = games[games["MATCHUP"]=="GSW vs. TOR"]
games_away = games[games["MATCHUP"]=="GSW @ TOR"]

##plot the graph for success
fig, ax = plt.subplots()
games_away.plot(x = "GAME_DATE",y = "PLUS_MINUS", ax = ax)
games_home.plot(x = "GAME_DATE",y = "PLUS_MINUS", ax = ax)
ax.legend(["away","home"])
plt.show()
